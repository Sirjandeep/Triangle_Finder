{
 "cells": [
  {
   "cell_type": "code",
   "execution_count": 6,
   "id": "4415374e",
   "metadata": {},
   "outputs": [
    {
     "name": "stdout",
     "output_type": "stream",
     "text": [
      "enter the angle 1: 60\n",
      "enter the angle 2: 60\n",
      "enter the angle 3: 60\n",
      "enter the side 1: 5\n",
      "enter the side 2: 5\n",
      "enter the side 3: 5\n",
      "Triangle is equilateral_triangle\n"
     ]
    }
   ],
   "source": [
    "\n",
    "class triangle():\n",
    "    def __init__(self):\n",
    "        self.angle1=int(input(\"enter the angle 1: \"))\n",
    "        self.angle2=int(input(\"enter the angle 2: \"))\n",
    "        self.angle3=int(input(\"enter the angle 3: \"))\n",
    "        self.side1=int(input(\"enter the side 1: \"))\n",
    "        self.side2=int(input(\"enter the side 2: \"))\n",
    "        self.side3=int(input(\"enter the side 3: \"))\n",
    "        self.sum=self.angle1+self.angle2+self.angle3\n",
    "    def angle_check(self):\n",
    "        self.sum=180\n",
    "class isosceles_triangle(triangle):    \n",
    "    def check_isosceles_triangle_angle(self):\n",
    "        if self.angle1==self.angle2!=0 and self.angle3==180-(self.angle1+self.angle2) and (self.side1==self.side2 or self.side1==self.side3 or self.side2==self.side3):\n",
    "            print(\"Triangle is isosceles\")\n",
    "        elif self.angle1==self.angle3!=0 and self.angle2==180-(self.angle1+self.angle3) and (self.side1==self.side2 or self.side1==self.side3 or self.side2==self.side3):\n",
    "            print(\"Triangle is isosceles\")\n",
    "        elif self.angle2==self.angle3!=0 and self.angle1==180-(self.angle2+self.angle3) and (self.side1==self.side2 or self.side1==self.side3 or self.side2==self.side3):\n",
    "            print(\"Triangle is isosceles\")\n",
    "        else:\n",
    "            print(\"Not a isosceles Triangle\")\n",
    "            \n",
    "class right_triangle(triangle):\n",
    "    def check_right_triangle_angle(self):\n",
    "        if self.angle1==90 and self.angle2!=0 and self.angle3==180-(self.angle1+self.angle2):\n",
    "            print(\"Triangle is right_triangle\")\n",
    "        elif self.angle2==90 and self.angle1!=0 and self.angle3==180-(self.angle1+self.angle2):\n",
    "            print(\"Triangle is right_triangle\")\n",
    "        elif self.angle3==90 and self.angle2!=0 and self.angle3==180-(self.angle1+self.angle3):\n",
    "            print(\"Triangle is right_triangle\")\n",
    "        else:\n",
    "            print(\"Not a right_triangle\") \n",
    "            \n",
    "class isosceles_right_triangle(triangle):\n",
    "    def info_isosceles_right_triangle(self):\n",
    "        if self.angle1==self.angle2==45 and self.angle3==90 and (self.side1==self.side2) or (self.side1==self.side3) or (self.side2==self.side3)  :\n",
    "            print(\"Triangle is iso_right_tri\")\n",
    "        elif self.angle1==self.angle3==45 and self.angle2==90 and (self.side1==self.side2) or (self.side1==self.side3) or (self.side2==self.side3)   :\n",
    "            print(\"Triangle is iso_right_tri\")\n",
    "        elif self.angle2==self.angle3==45 and self.angle1==90 and  (self.side1==self.side2) or (self.side1==self.side3) or (self.side2==self.side3)  : \n",
    "            print(\"Triangle is iso_right_tri\")\n",
    "        else:\n",
    "            print(\"not a iso_right_tri\")\n",
    "class equilateral_triangle(triangle):\n",
    "    def info_equilateral_triangle(self):\n",
    "        if self.angle1==self.angle2==self.angle3==60 and self.side1==self.side2==self.side3  :\n",
    "            print(\"Triangle is equilateral_triangle\")\n",
    "        else:\n",
    "            print(\"not a equilateral_triangle\")   \n",
    "a1=equilateral_triangle()\n",
    "# a2=right_triangle()\n",
    "# a3=isosceles_right_triangle()\n",
    "a1.info_equilateral_triangle()\n",
    "# # a2.check_right_triangle_angle()\n",
    "# a3.info_isosceles_right_triangle()"
   ]
  },
  {
   "cell_type": "code",
   "execution_count": null,
   "id": "df3aac7f",
   "metadata": {},
   "outputs": [],
   "source": []
  },
  {
   "cell_type": "code",
   "execution_count": null,
   "id": "b57b6f9e",
   "metadata": {},
   "outputs": [],
   "source": []
  }
 ],
 "metadata": {
  "kernelspec": {
   "display_name": "Python 3 (ipykernel)",
   "language": "python",
   "name": "python3"
  },
  "language_info": {
   "codemirror_mode": {
    "name": "ipython",
    "version": 3
   },
   "file_extension": ".py",
   "mimetype": "text/x-python",
   "name": "python",
   "nbconvert_exporter": "python",
   "pygments_lexer": "ipython3",
   "version": "3.10.9"
  }
 },
 "nbformat": 4,
 "nbformat_minor": 5
}
